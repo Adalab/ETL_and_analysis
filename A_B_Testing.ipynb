{
 "cells": [
  {
   "cell_type": "code",
   "execution_count": 47,
   "metadata": {},
   "outputs": [],
   "source": [
    "\n",
    "import pandas as pd\n",
    "\n",
    "import matplotlib.pyplot as plt\n",
    "import seaborn as sns\n",
    "\n",
    "import scipy.stats as stats\n",
    "from scipy.stats import shapiro, levene, mannwhitneyu\n",
    "from scipy.stats import ttest_ind, norm, chi2_contingency\n",
    "\n",
    "pd.set_option('display.max_columns', None) # para poder visualizar todas las columnas de los DataFrames\n",
    "\n",
    "import warnings\n",
    "warnings.filterwarnings(\"ignore\")\n"
   ]
  },
  {
   "cell_type": "markdown",
   "metadata": {},
   "source": [
    "## En este archivo se realizara el A/B Testing solicitado en la fase 3"
   ]
  },
  {
   "cell_type": "code",
   "execution_count": 48,
   "metadata": {},
   "outputs": [],
   "source": [
    "# Objetivo del Ejercicio: Utilizando un conjunto de datos que hemos compartido, se busca evaluar si existen diferencias significativas en el número de vuelos\n",
    "# reservados según el nivel educativo de los clientes. Para ello, los pasos que deberas seguir son:\n",
    "    # 1. Preparación de Datos:\n",
    "    # Filtra el conjunto de datos para incluir únicamente las columnas relevantes: 'Flights Booked' y 'Education'.\n",
    "    # 2. Análisis Descriptivo:\n",
    "    # Agrupa los datos por nivel educativo y calcula estadísticas descriptivas básicas (como el promedio, la desviación estandar, los percentiles) del número de vuelos reservados para cada grupo.\n",
    "    # 3. Prueba Estadística:\n",
    "    # Realiza una prueba de A/B testing para determinar si existe una diferencia significativa en el número de vuelos reservados entre los diferentes niveles educativos"
   ]
  },
  {
   "cell_type": "code",
   "execution_count": 49,
   "metadata": {},
   "outputs": [],
   "source": [
    "df_final = pd.read_csv(\"files/df_final.csv\", index_col = 0)"
   ]
  },
  {
   "cell_type": "code",
   "execution_count": 50,
   "metadata": {},
   "outputs": [
    {
     "data": {
      "text/html": [
       "<div>\n",
       "<style scoped>\n",
       "    .dataframe tbody tr th:only-of-type {\n",
       "        vertical-align: middle;\n",
       "    }\n",
       "\n",
       "    .dataframe tbody tr th {\n",
       "        vertical-align: top;\n",
       "    }\n",
       "\n",
       "    .dataframe thead th {\n",
       "        text-align: right;\n",
       "    }\n",
       "</style>\n",
       "<table border=\"1\" class=\"dataframe\">\n",
       "  <thead>\n",
       "    <tr style=\"text-align: right;\">\n",
       "      <th></th>\n",
       "      <th>loyalty_number</th>\n",
       "      <th>year</th>\n",
       "      <th>month</th>\n",
       "      <th>flights_booked</th>\n",
       "      <th>flights_with_companions</th>\n",
       "      <th>total_flights</th>\n",
       "      <th>distance</th>\n",
       "      <th>points_accumulated</th>\n",
       "      <th>points_redeemed</th>\n",
       "      <th>dollar_cost_points_redeemed</th>\n",
       "      <th>country</th>\n",
       "      <th>province</th>\n",
       "      <th>city</th>\n",
       "      <th>postal_code</th>\n",
       "      <th>gender</th>\n",
       "      <th>education</th>\n",
       "      <th>salary</th>\n",
       "      <th>marital_status</th>\n",
       "      <th>loyalty_card</th>\n",
       "      <th>clv</th>\n",
       "      <th>enrollment_type</th>\n",
       "      <th>enrollment_year</th>\n",
       "      <th>enrollment_month</th>\n",
       "      <th>cancellation_year</th>\n",
       "      <th>cancellation_month</th>\n",
       "      <th>year_month</th>\n",
       "      <th>enrollment_year_month</th>\n",
       "      <th>cancellation_year_month</th>\n",
       "    </tr>\n",
       "  </thead>\n",
       "  <tbody>\n",
       "    <tr>\n",
       "      <th>0</th>\n",
       "      <td>100018</td>\n",
       "      <td>2017</td>\n",
       "      <td>1</td>\n",
       "      <td>3</td>\n",
       "      <td>0</td>\n",
       "      <td>3</td>\n",
       "      <td>1521</td>\n",
       "      <td>152.000</td>\n",
       "      <td>0</td>\n",
       "      <td>0</td>\n",
       "      <td>Canada</td>\n",
       "      <td>Alberta</td>\n",
       "      <td>Edmonton</td>\n",
       "      <td>T9G 1W3</td>\n",
       "      <td>Female</td>\n",
       "      <td>Bachelor</td>\n",
       "      <td>92552.000</td>\n",
       "      <td>Married</td>\n",
       "      <td>Aurora</td>\n",
       "      <td>7919.200</td>\n",
       "      <td>Standard</td>\n",
       "      <td>2016</td>\n",
       "      <td>8</td>\n",
       "      <td>Unknown</td>\n",
       "      <td>Unknown</td>\n",
       "      <td>2017/1</td>\n",
       "      <td>2016/8</td>\n",
       "      <td>Unknown/Unknown</td>\n",
       "    </tr>\n",
       "    <tr>\n",
       "      <th>1</th>\n",
       "      <td>100102</td>\n",
       "      <td>2017</td>\n",
       "      <td>1</td>\n",
       "      <td>10</td>\n",
       "      <td>4</td>\n",
       "      <td>14</td>\n",
       "      <td>2030</td>\n",
       "      <td>203.000</td>\n",
       "      <td>0</td>\n",
       "      <td>0</td>\n",
       "      <td>Canada</td>\n",
       "      <td>Ontario</td>\n",
       "      <td>Toronto</td>\n",
       "      <td>M1R 4K3</td>\n",
       "      <td>Male</td>\n",
       "      <td>College</td>\n",
       "      <td>NaN</td>\n",
       "      <td>Single</td>\n",
       "      <td>Nova</td>\n",
       "      <td>2887.740</td>\n",
       "      <td>Standard</td>\n",
       "      <td>2013</td>\n",
       "      <td>3</td>\n",
       "      <td>Unknown</td>\n",
       "      <td>Unknown</td>\n",
       "      <td>2017/1</td>\n",
       "      <td>2013/3</td>\n",
       "      <td>Unknown/Unknown</td>\n",
       "    </tr>\n",
       "    <tr>\n",
       "      <th>2</th>\n",
       "      <td>100140</td>\n",
       "      <td>2017</td>\n",
       "      <td>1</td>\n",
       "      <td>6</td>\n",
       "      <td>0</td>\n",
       "      <td>6</td>\n",
       "      <td>1200</td>\n",
       "      <td>120.000</td>\n",
       "      <td>0</td>\n",
       "      <td>0</td>\n",
       "      <td>Canada</td>\n",
       "      <td>British Columbia</td>\n",
       "      <td>Dawson Creek</td>\n",
       "      <td>U5I 4F1</td>\n",
       "      <td>Female</td>\n",
       "      <td>College</td>\n",
       "      <td>NaN</td>\n",
       "      <td>Divorced</td>\n",
       "      <td>Nova</td>\n",
       "      <td>2838.070</td>\n",
       "      <td>Standard</td>\n",
       "      <td>2016</td>\n",
       "      <td>7</td>\n",
       "      <td>Unknown</td>\n",
       "      <td>Unknown</td>\n",
       "      <td>2017/1</td>\n",
       "      <td>2016/7</td>\n",
       "      <td>Unknown/Unknown</td>\n",
       "    </tr>\n",
       "    <tr>\n",
       "      <th>3</th>\n",
       "      <td>100214</td>\n",
       "      <td>2017</td>\n",
       "      <td>1</td>\n",
       "      <td>0</td>\n",
       "      <td>0</td>\n",
       "      <td>0</td>\n",
       "      <td>0</td>\n",
       "      <td>0.000</td>\n",
       "      <td>0</td>\n",
       "      <td>0</td>\n",
       "      <td>Canada</td>\n",
       "      <td>British Columbia</td>\n",
       "      <td>Vancouver</td>\n",
       "      <td>V5R 1W3</td>\n",
       "      <td>Male</td>\n",
       "      <td>Bachelor</td>\n",
       "      <td>63253.000</td>\n",
       "      <td>Married</td>\n",
       "      <td>Star</td>\n",
       "      <td>4170.570</td>\n",
       "      <td>Standard</td>\n",
       "      <td>2015</td>\n",
       "      <td>8</td>\n",
       "      <td>Unknown</td>\n",
       "      <td>Unknown</td>\n",
       "      <td>2017/1</td>\n",
       "      <td>2015/8</td>\n",
       "      <td>Unknown/Unknown</td>\n",
       "    </tr>\n",
       "    <tr>\n",
       "      <th>4</th>\n",
       "      <td>100272</td>\n",
       "      <td>2017</td>\n",
       "      <td>1</td>\n",
       "      <td>0</td>\n",
       "      <td>0</td>\n",
       "      <td>0</td>\n",
       "      <td>0</td>\n",
       "      <td>0.000</td>\n",
       "      <td>0</td>\n",
       "      <td>0</td>\n",
       "      <td>Canada</td>\n",
       "      <td>Ontario</td>\n",
       "      <td>Toronto</td>\n",
       "      <td>P1L 8X8</td>\n",
       "      <td>Female</td>\n",
       "      <td>Bachelor</td>\n",
       "      <td>91163.000</td>\n",
       "      <td>Divorced</td>\n",
       "      <td>Star</td>\n",
       "      <td>6622.050</td>\n",
       "      <td>Standard</td>\n",
       "      <td>2014</td>\n",
       "      <td>1</td>\n",
       "      <td>Unknown</td>\n",
       "      <td>Unknown</td>\n",
       "      <td>2017/1</td>\n",
       "      <td>2014/1</td>\n",
       "      <td>Unknown/Unknown</td>\n",
       "    </tr>\n",
       "  </tbody>\n",
       "</table>\n",
       "</div>"
      ],
      "text/plain": [
       "   loyalty_number  year  month  flights_booked  flights_with_companions  \\\n",
       "0          100018  2017      1               3                        0   \n",
       "1          100102  2017      1              10                        4   \n",
       "2          100140  2017      1               6                        0   \n",
       "3          100214  2017      1               0                        0   \n",
       "4          100272  2017      1               0                        0   \n",
       "\n",
       "   total_flights  distance  points_accumulated  points_redeemed  \\\n",
       "0              3      1521             152.000                0   \n",
       "1             14      2030             203.000                0   \n",
       "2              6      1200             120.000                0   \n",
       "3              0         0               0.000                0   \n",
       "4              0         0               0.000                0   \n",
       "\n",
       "   dollar_cost_points_redeemed country          province          city  \\\n",
       "0                            0  Canada           Alberta      Edmonton   \n",
       "1                            0  Canada           Ontario       Toronto   \n",
       "2                            0  Canada  British Columbia  Dawson Creek   \n",
       "3                            0  Canada  British Columbia     Vancouver   \n",
       "4                            0  Canada           Ontario       Toronto   \n",
       "\n",
       "  postal_code  gender education    salary marital_status loyalty_card  \\\n",
       "0     T9G 1W3  Female  Bachelor 92552.000        Married       Aurora   \n",
       "1     M1R 4K3    Male   College       NaN         Single         Nova   \n",
       "2     U5I 4F1  Female   College       NaN       Divorced         Nova   \n",
       "3     V5R 1W3    Male  Bachelor 63253.000        Married         Star   \n",
       "4     P1L 8X8  Female  Bachelor 91163.000       Divorced         Star   \n",
       "\n",
       "       clv enrollment_type  enrollment_year  enrollment_month  \\\n",
       "0 7919.200        Standard             2016                 8   \n",
       "1 2887.740        Standard             2013                 3   \n",
       "2 2838.070        Standard             2016                 7   \n",
       "3 4170.570        Standard             2015                 8   \n",
       "4 6622.050        Standard             2014                 1   \n",
       "\n",
       "  cancellation_year cancellation_month year_month enrollment_year_month  \\\n",
       "0           Unknown            Unknown     2017/1                2016/8   \n",
       "1           Unknown            Unknown     2017/1                2013/3   \n",
       "2           Unknown            Unknown     2017/1                2016/7   \n",
       "3           Unknown            Unknown     2017/1                2015/8   \n",
       "4           Unknown            Unknown     2017/1                2014/1   \n",
       "\n",
       "  cancellation_year_month  \n",
       "0         Unknown/Unknown  \n",
       "1         Unknown/Unknown  \n",
       "2         Unknown/Unknown  \n",
       "3         Unknown/Unknown  \n",
       "4         Unknown/Unknown  "
      ]
     },
     "execution_count": 50,
     "metadata": {},
     "output_type": "execute_result"
    }
   ],
   "source": [
    "df_final.head()"
   ]
  },
  {
   "cell_type": "code",
   "execution_count": 51,
   "metadata": {},
   "outputs": [],
   "source": [
    "df_filtrado = df_final[[\"loyalty_number\", \"flights_booked\", \"education\"]]"
   ]
  },
  {
   "cell_type": "code",
   "execution_count": 52,
   "metadata": {},
   "outputs": [
    {
     "data": {
      "text/html": [
       "<div>\n",
       "<style scoped>\n",
       "    .dataframe tbody tr th:only-of-type {\n",
       "        vertical-align: middle;\n",
       "    }\n",
       "\n",
       "    .dataframe tbody tr th {\n",
       "        vertical-align: top;\n",
       "    }\n",
       "\n",
       "    .dataframe thead th {\n",
       "        text-align: right;\n",
       "    }\n",
       "</style>\n",
       "<table border=\"1\" class=\"dataframe\">\n",
       "  <thead>\n",
       "    <tr style=\"text-align: right;\">\n",
       "      <th></th>\n",
       "      <th>loyalty_number</th>\n",
       "      <th>flights_booked</th>\n",
       "      <th>education</th>\n",
       "    </tr>\n",
       "  </thead>\n",
       "  <tbody>\n",
       "    <tr>\n",
       "      <th>0</th>\n",
       "      <td>100018</td>\n",
       "      <td>3</td>\n",
       "      <td>Bachelor</td>\n",
       "    </tr>\n",
       "    <tr>\n",
       "      <th>1</th>\n",
       "      <td>100102</td>\n",
       "      <td>10</td>\n",
       "      <td>College</td>\n",
       "    </tr>\n",
       "    <tr>\n",
       "      <th>2</th>\n",
       "      <td>100140</td>\n",
       "      <td>6</td>\n",
       "      <td>College</td>\n",
       "    </tr>\n",
       "    <tr>\n",
       "      <th>3</th>\n",
       "      <td>100214</td>\n",
       "      <td>0</td>\n",
       "      <td>Bachelor</td>\n",
       "    </tr>\n",
       "    <tr>\n",
       "      <th>4</th>\n",
       "      <td>100272</td>\n",
       "      <td>0</td>\n",
       "      <td>Bachelor</td>\n",
       "    </tr>\n",
       "  </tbody>\n",
       "</table>\n",
       "</div>"
      ],
      "text/plain": [
       "   loyalty_number  flights_booked education\n",
       "0          100018               3  Bachelor\n",
       "1          100102              10   College\n",
       "2          100140               6   College\n",
       "3          100214               0  Bachelor\n",
       "4          100272               0  Bachelor"
      ]
     },
     "execution_count": 52,
     "metadata": {},
     "output_type": "execute_result"
    }
   ],
   "source": [
    "df_filtrado.head()"
   ]
  },
  {
   "cell_type": "code",
   "execution_count": 53,
   "metadata": {},
   "outputs": [
    {
     "data": {
      "text/plain": [
       "education\n",
       "Bachelor                252567\n",
       "College                 102260\n",
       "High School or Below     18915\n",
       "Doctor                   17731\n",
       "Master                   12287\n",
       "Name: count, dtype: int64"
      ]
     },
     "execution_count": 53,
     "metadata": {},
     "output_type": "execute_result"
    }
   ],
   "source": [
    "df_filtrado[\"education\"].value_counts()"
   ]
  },
  {
   "cell_type": "code",
   "execution_count": 54,
   "metadata": {},
   "outputs": [
    {
     "data": {
      "text/html": [
       "<div>\n",
       "<style scoped>\n",
       "    .dataframe tbody tr th:only-of-type {\n",
       "        vertical-align: middle;\n",
       "    }\n",
       "\n",
       "    .dataframe tbody tr th {\n",
       "        vertical-align: top;\n",
       "    }\n",
       "\n",
       "    .dataframe thead th {\n",
       "        text-align: right;\n",
       "    }\n",
       "</style>\n",
       "<table border=\"1\" class=\"dataframe\">\n",
       "  <thead>\n",
       "    <tr style=\"text-align: right;\">\n",
       "      <th></th>\n",
       "      <th>loyalty_number</th>\n",
       "      <th>flights_booked</th>\n",
       "      <th>education</th>\n",
       "      <th>education_level</th>\n",
       "    </tr>\n",
       "  </thead>\n",
       "  <tbody>\n",
       "    <tr>\n",
       "      <th>0</th>\n",
       "      <td>100018</td>\n",
       "      <td>3</td>\n",
       "      <td>Bachelor</td>\n",
       "      <td>Nivel alto</td>\n",
       "    </tr>\n",
       "    <tr>\n",
       "      <th>1</th>\n",
       "      <td>100102</td>\n",
       "      <td>10</td>\n",
       "      <td>College</td>\n",
       "      <td>Nivel bajo</td>\n",
       "    </tr>\n",
       "    <tr>\n",
       "      <th>2</th>\n",
       "      <td>100140</td>\n",
       "      <td>6</td>\n",
       "      <td>College</td>\n",
       "      <td>Nivel bajo</td>\n",
       "    </tr>\n",
       "    <tr>\n",
       "      <th>3</th>\n",
       "      <td>100214</td>\n",
       "      <td>0</td>\n",
       "      <td>Bachelor</td>\n",
       "      <td>Nivel alto</td>\n",
       "    </tr>\n",
       "    <tr>\n",
       "      <th>4</th>\n",
       "      <td>100272</td>\n",
       "      <td>0</td>\n",
       "      <td>Bachelor</td>\n",
       "      <td>Nivel alto</td>\n",
       "    </tr>\n",
       "  </tbody>\n",
       "</table>\n",
       "</div>"
      ],
      "text/plain": [
       "   loyalty_number  flights_booked education education_level\n",
       "0          100018               3  Bachelor      Nivel alto\n",
       "1          100102              10   College      Nivel bajo\n",
       "2          100140               6   College      Nivel bajo\n",
       "3          100214               0  Bachelor      Nivel alto\n",
       "4          100272               0  Bachelor      Nivel alto"
      ]
     },
     "execution_count": 54,
     "metadata": {},
     "output_type": "execute_result"
    }
   ],
   "source": [
    "df_filtrado[\"education_level\"] = df_filtrado[\"education\"].apply(lambda dato: \"Nivel alto\" if dato in [\"Doctor\", \"Master\", \"Bachelor\"] else \"Nivel bajo\")\n",
    "df_filtrado.head()"
   ]
  },
  {
   "cell_type": "code",
   "execution_count": 55,
   "metadata": {},
   "outputs": [
    {
     "name": "stdout",
     "output_type": "stream",
     "text": [
      "Educacion de Nivel alto\n",
      "count   282585.000\n",
      "mean         4.118\n",
      "std          5.224\n",
      "min          0.000\n",
      "25%          0.000\n",
      "50%          1.000\n",
      "75%          8.000\n",
      "max         21.000\n",
      "Name: flights_booked, dtype: float64\n",
      "\n",
      "--------------------------------\n",
      "\n",
      "Educacion de Nivel bajo\n",
      "count   121175.000\n",
      "mean         4.171\n",
      "std          5.245\n",
      "min          0.000\n",
      "25%          0.000\n",
      "50%          1.000\n",
      "75%          8.000\n",
      "max         21.000\n",
      "Name: flights_booked, dtype: float64\n",
      "\n",
      "--------------------------------\n",
      "\n"
     ]
    }
   ],
   "source": [
    "for col in df_filtrado[\"education_level\"].unique():\n",
    "    print(f\"Educacion de {col}\")\n",
    "    print(df_filtrado[df_filtrado[\"education_level\"] ==  col][\"flights_booked\"].describe())\n",
    "    print(\"\\n--------------------------------\\n\")"
   ]
  },
  {
   "cell_type": "code",
   "execution_count": 56,
   "metadata": {},
   "outputs": [],
   "source": [
    "#Las metricas son muy parecidas en ambos grupos excepto el conteo que nos muestra que hay muchos mas clientes con un nivel alto de educacion"
   ]
  },
  {
   "cell_type": "code",
   "execution_count": 57,
   "metadata": {},
   "outputs": [
    {
     "data": {
      "image/png": "[encoded data removed]",
      "text/plain": [
       "<Figure size 640x480 with 1 Axes>"
      ]
     },
     "metadata": {},
     "output_type": "display_data"
    }
   ],
   "source": [
    "sns.barplot(x = \"education_level\", y = \"flights_booked\", data = df_filtrado, palette = \"magma\");\n",
    "#aqui vemos las medias en un barplot"
   ]
  },
  {
   "cell_type": "code",
   "execution_count": 58,
   "metadata": {},
   "outputs": [
    {
     "data": {
      "image/png": "[encoded data removed]",
      "text/plain": [
       "<Figure size 640x480 with 1 Axes>"
      ]
     },
     "metadata": {},
     "output_type": "display_data"
    }
   ],
   "source": [
    "df = df_filtrado[[\"education_level\", \"flights_booked\"]]\n",
    "sns.barplot(x = \"education_level\", \n",
    "            y = \"flights_booked\",\n",
    "              data = df, \n",
    "              palette = \"mako\", estimator = sum)\n",
    "\n",
    "plt.ticklabel_format(style='plain', axis='y')\n",
    "#usamos tambien un barplot para mostrar la suma del numero de vuelos reservados por cliente"
   ]
  },
  {
   "cell_type": "code",
   "execution_count": 59,
   "metadata": {},
   "outputs": [
    {
     "data": {
      "image/png": "[encoded data removed]",
      "text/plain": [
       "<Figure size 640x480 with 1 Axes>"
      ]
     },
     "metadata": {},
     "output_type": "display_data"
    }
   ],
   "source": [
    "df_estudios = df_filtrado.groupby(\"education_level\")[\"flights_booked\"].sum().reset_index()\n",
    "colores = [\"seagreen\", \"teal\", \"green\"]\n",
    "\n",
    "# creamos el gráfico basándonos en el DataFrame que hemos creado en el paso anterior\n",
    "plt.pie(\"flights_booked\", labels= \"education_level\",\n",
    "        data = df_estudios, \n",
    "        autopct=  '%1.1f%%', \n",
    "        colors = colores, \n",
    "        textprops={'fontsize': 8}, \n",
    "        startangle=90);"
   ]
  },
  {
   "cell_type": "code",
   "execution_count": 60,
   "metadata": {},
   "outputs": [],
   "source": [
    "#Para realizar la prueba de A/B testing:\n",
    "\n",
    "#Establecemos las hipotesis:\n",
    "#   H0: No existe una diferencia significativa en el número de vuelos reservados entre los diferentes niveles educativos\n",
    "#   H1: Si existe una diferencia significativa\n",
    "\n",
    "#si p_value < 0.05 -> rechazamos H0\n",
    "#si p_value > 0.05 -> mantenemos H0"
   ]
  },
  {
   "cell_type": "code",
   "execution_count": 61,
   "metadata": {},
   "outputs": [
    {
     "name": "stdout",
     "output_type": "stream",
     "text": [
      "p-Value: 1.5469185716221557e-164\n"
     ]
    }
   ],
   "source": [
    "#1. Prueba de normalidad\n",
    "#Establecemos las hipotesis:\n",
    "#   H0: Los datos siguen una distribucion normal\n",
    "#   H1: Los datos no siguen una distribucion normal\n",
    "\n",
    "#si p_value < 0.05 -> rechazamos H0\n",
    "#si p_value > 0.05 -> mantenemos H0\n",
    "\n",
    "_,p_value = shapiro(df_filtrado[\"flights_booked\"])\n",
    "print(f\"p-Value: {p_value}\")"
   ]
  },
  {
   "cell_type": "code",
   "execution_count": 68,
   "metadata": {},
   "outputs": [
    {
     "data": {
      "image/png": "[encoded data removed]",
      "text/plain": [
       "<Figure size 640x480 with 1 Axes>"
      ]
     },
     "metadata": {},
     "output_type": "display_data"
    }
   ],
   "source": [
    "sns.histplot(data=df_filtrado, x=\"flights_booked\", bins = 20);"
   ]
  },
  {
   "cell_type": "code",
   "execution_count": 62,
   "metadata": {},
   "outputs": [],
   "source": [
    "# Ademas de comprobar visualmente que los datos no parecen seguir una distribucion normal, el p_value es menor que 0.05 por lo que rechazamos H0, tenemos evidencia suficiente para afirmar que los datos no siguen una distribucion normal."
   ]
  },
  {
   "cell_type": "code",
   "execution_count": 63,
   "metadata": {},
   "outputs": [],
   "source": [
    "#Realizamos la prueba de Mann Whitney, ya que no se cumple el criterio de normalidad (en este caso no es necesario comprobar la homogeneidad de varianza ni la independencia)\n",
    "#Establecemos las hipotesis:\n",
    "#   H0: Los datos no son significativamente diferentes\n",
    "#   H1: Los datos son significativamente diferentes\n",
    "\n",
    "#si p_value < 0.05 -> rechazamos H0\n",
    "#si p_value > 0.05 -> mantenemos H0"
   ]
  },
  {
   "cell_type": "code",
   "execution_count": 64,
   "metadata": {},
   "outputs": [],
   "source": [
    "nivel_alto = df_filtrado[df_filtrado[\"education_level\"] == \"Nivel alto\"]\n",
    "nivel_bajo = df_filtrado[df_filtrado[\"education_level\"] == \"Nivel bajo\"]"
   ]
  },
  {
   "cell_type": "code",
   "execution_count": 65,
   "metadata": {},
   "outputs": [
    {
     "name": "stdout",
     "output_type": "stream",
     "text": [
      "Las medianas son significativamente diferentes.\n"
     ]
    }
   ],
   "source": [
    "u_statistic, p_value = stats.mannwhitneyu(nivel_alto['flights_booked'], nivel_bajo['flights_booked'])\n",
    "        \n",
    "if p_value < 0.05:\n",
    "    print(f\"Las medianas son significativamente diferentes.\")\n",
    "else:\n",
    "    print(f\"Las medianas no son significativamente diferentes.\")"
   ]
  },
  {
   "cell_type": "markdown",
   "metadata": {},
   "source": [
    "### Conclusion"
   ]
  },
  {
   "cell_type": "markdown",
   "metadata": {},
   "source": [
    "Tras todas las pruebas y visualizaciones podemos concluir que sí existe una diferencia significativa entre el numero de vuelos reservados segun el nivel educativo.\n",
    "\n",
    "Los clientes con niveles de educacion mas altos (suponiendo que estos son \"Doctor\", \"Master\", \"Bachelor\") reservan muchos mas vuelos que los que tienen un nivel mas bajo"
   ]
  }
 ],
 "metadata": {
  "kernelspec": {
   "display_name": "Python 3",
   "language": "python",
   "name": "python3"
  },
  "language_info": {
   "codemirror_mode": {
    "name": "ipython",
    "version": 3
   },
   "file_extension": ".py",
   "mimetype": "text/x-python",
   "name": "python",
   "nbconvert_exporter": "python",
   "pygments_lexer": "ipython3",
   "version": "3.11.9"
  }
 },
 "nbformat": 4,
 "nbformat_minor": 2
}
